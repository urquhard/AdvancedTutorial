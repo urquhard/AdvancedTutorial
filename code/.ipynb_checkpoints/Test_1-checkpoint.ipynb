{
 "cells": [
  {
   "cell_type": "code",
   "execution_count": 25,
   "id": "a6df045f-8315-4ae0-a54d-cb8878980f79",
   "metadata": {},
   "outputs": [],
   "source": [
    "!$PYTHONPATH"
   ]
  },
  {
   "cell_type": "code",
   "execution_count": 26,
   "id": "1d715e9d-f354-4542-825e-b011635f31b7",
   "metadata": {},
   "outputs": [],
   "source": [
    "import polars as pl\n",
    "import numpy as np\n",
    "import matplotlib.pyplot as plt"
   ]
  },
  {
   "cell_type": "code",
   "execution_count": 27,
   "id": "368204f1-cf44-416f-acf7-af0da18ec492",
   "metadata": {},
   "outputs": [],
   "source": [
    "%matplotlib inline"
   ]
  },
  {
   "cell_type": "code",
   "execution_count": 28,
   "id": "5bcb7c69-827d-4952-b3c5-f97c13fb7e8d",
   "metadata": {},
   "outputs": [
    {
     "name": "stdout",
     "output_type": "stream",
     "text": [
      "shape: (100_000, 2)\n",
      "┌─────────────────────────────────┬─────────────────────────────────┐\n",
      "│ target                          ┆ point_cloud                     │\n",
      "│ ---                             ┆ ---                             │\n",
      "│ array[f32, 3]                   ┆ list[array[f32, 3]]             │\n",
      "╞═════════════════════════════════╪═════════════════════════════════╡\n",
      "│ [1.455413, 15.901725, -571.578… ┆ [[46.253021, 175.486893, -558.… │\n",
      "│ [22.550814, 3.005712, 834.1053… ┆ [[171.600311, -59.034386, 1070… │\n",
      "│ [4.511479, -8.75235, -1014.025… ┆ [[33.221375, -178.431686, -106… │\n",
      "│ [3.536473, -9.28247, -268.1976… ┆ [[87.506714, -158.989197, -558… │\n",
      "│ [-9.729183, 4.537313, -970.073… ┆ [[33.232174, -178.489685, -110… │\n",
      "│ …                               ┆ …                               │\n",
      "│ [13.143321, 14.416292, 1151.87… ┆ [[-176.694656, 41.962231, 1142… │\n",
      "│ [-6.575313, 3.461314, 1151.884… ┆ [[79.624199, 163.140869, 1127.… │\n",
      "│ [4.806145, 15.775914, 1151.934… ┆ [[-179.883514, 24.431108, 1106… │\n",
      "│ [8.332372, -1.992277, 1151.947… ┆ [[79.59832, -163.087845, 998.0… │\n",
      "│ [8.391743, 2.59554, 1151.94799… ┆ [[41.962231, 176.694656, 1142.… │\n",
      "└─────────────────────────────────┴─────────────────────────────────┘\n"
     ]
    }
   ],
   "source": [
    "df = pl.read_parquet(\"/fast_scratch_1/TRISEP_data/AdvancedTutorial/small_dataset.parquet\")\n",
    "print(df)"
   ]
  },
  {
   "cell_type": "code",
   "execution_count": 29,
   "id": "c9cec131-c55b-43d7-9f08-25a83498ab53",
   "metadata": {},
   "outputs": [],
   "source": [
    "point_cloud = df[\"point_cloud\"].to_numpy()"
   ]
  },
  {
   "cell_type": "code",
   "execution_count": 30,
   "id": "978ff49d-da92-44dd-ba9d-d0db33cc5fcf",
   "metadata": {},
   "outputs": [
    {
     "data": {
      "image/png": "[encoded data removed]",
      "text/plain": [
       "<Figure size 640x480 with 1 Axes>"
      ]
     },
     "metadata": {},
     "output_type": "display_data"
    }
   ],
   "source": [
    "mean_zs = np.array([pc[:, 2].mean() for pc in point_cloud])\n",
    "plt.hist(mean_zs, 100)\n",
    "plt.title(\"Mean z distribution\")\n",
    "plt.show()"
   ]
  },
  {
   "cell_type": "code",
   "execution_count": null,
   "id": "01da16f4-fd39-47cf-861e-557974405885",
   "metadata": {},
   "outputs": [],
   "source": [
    "from data.dataset import PointCloudDataset\n",
    "\n",
    "config = {\"cloud_size\": 140}\n",
    "dataset = PointCloudDataset(\n",
    "    \"/fast_scratch_1/TRISEP_data/AdvancedTutorial/small_dataset.parquet\", config\n",
    ")\n",
    "\n",
    "index = 0  # First event\n",
    "point_cloud, target = dataset[index]"
   ]
  },
  {
   "cell_type": "code",
   "execution_count": null,
   "id": "124e1603-c345-4157-99c7-4226bba05958",
   "metadata": {},
   "outputs": [],
   "source": [
    "for i in range(10):\n",
    "    point_cloud, target = dataset[i]\n",
    "    fig = plt.figure()\n",
    "    ax = fig.add_subplot(projection=\"3d\")\n",
    "    \n",
    "    ax.scatter(point_cloud[0], point_cloud[1], point_cloud[2])\n",
    "    ax.scatter(0, 0, target.item(), color=\"red\")"
   ]
  },
  {
   "cell_type": "code",
   "execution_count": null,
   "id": "6a1ed961-3a95-4dcc-8060-3c211fa23a62",
   "metadata": {},
   "outputs": [],
   "source": [
    "for i in range(10, 20):\n",
    "    point_cloud, target = dataset[i]\n",
    "    fig = plt.figure()\n",
    "    ax = fig.add_subplot(projection=\"3d\")\n",
    "    \n",
    "    ax.scatter(point_cloud[0], point_cloud[1], point_cloud[2])\n",
    "    # ax.scatter(0, 0, target.item(), color=\"red\")"
   ]
  },
  {
   "cell_type": "code",
   "execution_count": null,
   "id": "1a3aef95-d224-4659-b881-91a09e9c9709",
   "metadata": {},
   "outputs": [],
   "source": []
  },
  {
   "cell_type": "code",
   "execution_count": null,
   "id": "be6cd29a-64ca-4ca7-ae77-10e352e9df33",
   "metadata": {},
   "outputs": [],
   "source": [
    "# DATA PREPROCESSING"
   ]
  },
  {
   "cell_type": "code",
   "execution_count": null,
   "id": "5857a3fa-5bd4-4614-9e32-d0254e47ed30",
   "metadata": {},
   "outputs": [],
   "source": [
    "from sklearn.model_selection import train_test_split"
   ]
  },
  {
   "cell_type": "code",
   "execution_count": null,
   "id": "3d99e21a-b93a-4f3f-b99d-8c729876e84c",
   "metadata": {},
   "outputs": [],
   "source": [
    "complete_df = pl.read_parquet(\n",
    "    \"/fast_scratch_1/TRISEP_data/AdvancedTutorial/small_dataset.parquet\"\n",
    ")"
   ]
  },
  {
   "cell_type": "code",
   "execution_count": null,
   "id": "64c7c051-ee65-4ded-ad75-63c8c50c0587",
   "metadata": {},
   "outputs": [],
   "source": [
    "df_train, df_test = train_test_split(complete_df, test_size=0.2, train_size=0.8, shuffle=True)"
   ]
  },
  {
   "cell_type": "code",
   "execution_count": null,
   "id": "4d017e8e-c1f7-4f7f-914a-8e942ac5e554",
   "metadata": {},
   "outputs": [],
   "source": [
    "df_val, df_testing = train_test_split(df_test, test_size=0.5, train_size=0.5, shuffle=True)"
   ]
  },
  {
   "cell_type": "code",
   "execution_count": null,
   "id": "4de6b08c-afba-4476-a9cb-2e315a55e7c0",
   "metadata": {},
   "outputs": [],
   "source": [
    "mean_zs = np.array([pc[:, 2].mean() for pc in df_train[\"point_cloud\"].to_numpy()])\n",
    "plt.hist(mean_zs, 100)\n",
    "plt.title(\"Mean z distribution\")\n",
    "plt.show()"
   ]
  },
  {
   "cell_type": "code",
   "execution_count": null,
   "id": "a034ce72-7983-42d3-84da-a49afc8d760c",
   "metadata": {},
   "outputs": [],
   "source": []
  }
 ],
 "metadata": {
  "kernelspec": {
   "display_name": "Python 3 (ipykernel)",
   "language": "python",
   "name": "python3"
  },
  "language_info": {
   "codemirror_mode": {
    "name": "ipython",
    "version": 3
   },
   "file_extension": ".py",
   "mimetype": "text/x-python",
   "name": "python",
   "nbconvert_exporter": "python",
   "pygments_lexer": "ipython3",
   "version": "3.12.3"
  }
 },
 "nbformat": 4,
 "nbformat_minor": 5
}
